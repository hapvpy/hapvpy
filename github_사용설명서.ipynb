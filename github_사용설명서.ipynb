{
  "nbformat": 4,
  "nbformat_minor": 0,
  "metadata": {
    "colab": {
      "provenance": []
    },
    "kernelspec": {
      "name": "python3",
      "display_name": "Python 3"
    },
    "language_info": {
      "name": "python"
    }
  },
  "cells": [
    {
      "cell_type": "markdown",
      "source": [
        "## github에 올려둔 파일 불러오기"
      ],
      "metadata": {
        "id": "clvKdRJQiZZi"
      }
    },
    {
      "cell_type": "code",
      "execution_count": null,
      "metadata": {
        "id": "B2p2qbCbiWaz"
      },
      "outputs": [],
      "source": [
        "git clone http://github.com/hapvpy/Seaborn-Tutorial-Study.git"
      ]
    },
    {
      "cell_type": "markdown",
      "source": [],
      "metadata": {
        "id": "vD8VnHFdieO8"
      }
    },
    {
      "cell_type": "markdown",
      "source": [
        "## 활동내용 확인하기"
      ],
      "metadata": {
        "id": "Yq38J67mieyb"
      }
    },
    {
      "cell_type": "code",
      "source": [
        "git log"
      ],
      "metadata": {
        "id": "NjkcZ3phigxh"
      },
      "execution_count": null,
      "outputs": []
    },
    {
      "cell_type": "markdown",
      "source": [],
      "metadata": {
        "id": "JwcvO__UikeN"
      }
    },
    {
      "cell_type": "markdown",
      "source": [
        "## github에 새롭게 upload 하기"
      ],
      "metadata": {
        "id": "YWEw5YVKikO2"
      }
    },
    {
      "cell_type": "code",
      "source": [
        "git add ."
      ],
      "metadata": {
        "id": "dltbMTbDiqEi"
      },
      "execution_count": null,
      "outputs": []
    },
    {
      "cell_type": "code",
      "source": [
        "git add '파일명.확장자'"
      ],
      "metadata": {
        "id": "DfWB2p3uij-2"
      },
      "execution_count": null,
      "outputs": []
    },
    {
      "cell_type": "markdown",
      "source": [],
      "metadata": {
        "id": "5OsDeqmCiuCE"
      }
    },
    {
      "cell_type": "markdown",
      "source": [
        "## github에 commit하기\n"
      ],
      "metadata": {
        "id": "IuYqmqKEit08"
      }
    },
    {
      "cell_type": "code",
      "source": [
        "git commit -m \"메시지\""
      ],
      "metadata": {
        "id": "wPzdDR-KiuVh"
      },
      "execution_count": null,
      "outputs": []
    },
    {
      "cell_type": "markdown",
      "source": [],
      "metadata": {
        "id": "Tc75M7oLi1F8"
      }
    },
    {
      "cell_type": "markdown",
      "source": [
        "# github에 push하기 "
      ],
      "metadata": {
        "id": "5qY0NLN3i1Ah"
      }
    },
    {
      "cell_type": "code",
      "source": [
        "git push origin main"
      ],
      "metadata": {
        "id": "l_HTyIL9i1bW"
      },
      "execution_count": null,
      "outputs": []
    }
  ]
}